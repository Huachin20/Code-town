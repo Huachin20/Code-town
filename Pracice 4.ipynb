{
 "cells": [
  {
   "cell_type": "code",
   "execution_count": 11,
   "metadata": {},
   "outputs": [
    {
     "name": "stdout",
     "output_type": "stream",
     "text": [
      "Insert how many values do you want to analyze: 3\n",
      "Introduce the data that you want to operate: 1\n",
      "Introduce the data that you want to operate: 2\n",
      "Introduce the data that you want to operate: 3\n",
      "Wich operation do you want to do: \n",
      "1 = Sample Mean \n",
      "2 = Mode \n",
      "3 = Standard Deviation \n",
      "1\n",
      "The sample mean of the set is: 2.0\n"
     ]
    }
   ],
   "source": [
    "from statistics import mode\n",
    "\n",
    "values=int(input(\"Insert how many values do you want to analyze: \"))\n",
    "data=[]\n",
    "z=0\n",
    "\n",
    "for i in range(0,values):\n",
    "        x = int(input(\"Introduce the data that you want to operate: \"))\n",
    "        data.append(x)\n",
    "        z+=x\n",
    "v=z/values     \n",
    "q=int(input(\"Wich operation do you want to do: \\n1 = Sample Mean \\n2 = Mode \\n3 = Standard Deviation \\n\"))\n",
    "\n",
    "if q==1:\n",
    "    print(f\"The sample mean of the set is: {v}\" )\n",
    "\n",
    "elif q==2:\n",
    "    repeticiones = 0\n",
    "    for i in data:\n",
    "        apariciones = data.count(i)\n",
    "        if apariciones > repeticiones:\n",
    "            repeticiones = apariciones\n",
    "    mode=[]\n",
    "    for i in data:\n",
    "        apariciones = data.count(i)\n",
    "        if apariciones == repeticiones and i not in mode:\n",
    "            mode.append(i)\n",
    "            \n",
    "    if len(mode) != len(data):\n",
    "        print(f\"The mode of the set is: {mode}\")\n",
    "    else:\n",
    "        print(\"There is no mode\")\n",
    "    \n",
    "elif q==3:\n",
    "    for i in range (0,values):\n",
    "        sd=((data[i]-v)**2)/(values-1)\n",
    "        \n",
    "    sq = sd**0.5\n",
    "    print(f\"The standard deviation of the set is: {sd}\")"
   ]
  },
  {
   "cell_type": "code",
   "execution_count": null,
   "metadata": {},
   "outputs": [],
   "source": []
  },
  {
   "cell_type": "code",
   "execution_count": null,
   "metadata": {},
   "outputs": [],
   "source": []
  }
 ],
 "metadata": {
  "kernelspec": {
   "display_name": "Python 3",
   "language": "python",
   "name": "python3"
  },
  "language_info": {
   "codemirror_mode": {
    "name": "ipython",
    "version": 3
   },
   "file_extension": ".py",
   "mimetype": "text/x-python",
   "name": "python",
   "nbconvert_exporter": "python",
   "pygments_lexer": "ipython3",
   "version": "3.7.4"
  }
 },
 "nbformat": 4,
 "nbformat_minor": 2
}
