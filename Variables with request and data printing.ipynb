{
 "cells": [
  {
   "cell_type": "code",
   "execution_count": 1,
   "metadata": {},
   "outputs": [
    {
     "name": "stdout",
     "output_type": "stream",
     "text": [
      "Give me the age of the -student 1-10\n",
      "Give me the age of the -student 2-11\n",
      "Give me the age of the -student 3-13\n",
      "The sample mean is, 11.333333333333334\n"
     ]
    }
   ],
   "source": [
    "print(\"Give me the age of the -student 1-\", end ='')\n",
    "age1 = int(input())\n",
    "\n",
    "print(\"Give me the age of the -student 2-\", end ='')\n",
    "age2 = int(input())\n",
    "\n",
    "print(\"Give me the age of the -student 3-\", end ='')\n",
    "age3 = int(input())\n",
    "\n",
    "sm = (age1 + age2 + age3) / 3\n",
    "print(f\"The sample mean is, {sm}\")"
   ]
  },
  {
   "cell_type": "code",
   "execution_count": null,
   "metadata": {},
   "outputs": [],
   "source": []
  }
 ],
 "metadata": {
  "kernelspec": {
   "display_name": "Python 3",
   "language": "python",
   "name": "python3"
  },
  "language_info": {
   "codemirror_mode": {
    "name": "ipython",
    "version": 3
   },
   "file_extension": ".py",
   "mimetype": "text/x-python",
   "name": "python",
   "nbconvert_exporter": "python",
   "pygments_lexer": "ipython3",
   "version": "3.7.4"
  }
 },
 "nbformat": 4,
 "nbformat_minor": 2
}
