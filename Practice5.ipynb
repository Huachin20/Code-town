{
 "cells": [
  {
   "cell_type": "code",
   "execution_count": 12,
   "metadata": {},
   "outputs": [
    {
     "name": "stdout",
     "output_type": "stream",
     "text": [
      "Introduce data 1 (write 's' to stop): 4\n",
      "Introduce data 2 (write 's' to stop): 5\n",
      "Introduce data 3 (write 's' to stop): 2\n",
      "Introduce data 4 (write 's' to stop): 4\n",
      "Introduce data 5 (write 's' to stop): 6\n",
      "Introduce data 6 (write 's' to stop): 8\n",
      "Introduce data 7 (write 's' to stop): 0\n",
      "Introduce data 8 (write 's' to stop): 10\n",
      "Introduce data 9 (write 's' to stop): s\n",
      "Sorted list: \n",
      " [0.0, 2.0, 4.0, 4.0, 5.0, 6.0, 8.0, 10.0]\n",
      "\n",
      "Introduce the percentage for the trimmed mean: 12.5\n",
      "\n",
      "The data that will be calculated is: \n",
      "\n",
      "2.0 4.0 4.0 5.0 6.0 8.0 \n",
      "\n",
      "The trimmed mean when the percentage is 12.5% is: 4.8\n"
     ]
    }
   ],
   "source": [
    "i = 0\n",
    "n = 0\n",
    "cc = 0\n",
    "su = 0\n",
    "m = []\n",
    "\n",
    "while i == 0:\n",
    "    data = input(f\"Introduce data {n+1} (write 's' to stop): \")\n",
    "    \n",
    "    if data == \"s\":\n",
    "        i = 1\n",
    "        \n",
    "    if data != \"s\":\n",
    "        x = float(data)\n",
    "        n = n + 1\n",
    "        m.append(x)\n",
    "\n",
    "for a in range(0,n-1):\n",
    "    for b in range(a,n):\n",
    "        if m[a] > m[b]:\n",
    "            cc = m[a]\n",
    "            m[a] = m[b]\n",
    "            m[b] = cc\n",
    "            \n",
    "print(f\"Sorted list: \\n {m}\")\n",
    "            \n",
    "if n > 0:\n",
    "    trimed_mean = float(input(\"\\nIntroduce the percentage for the trimmed mean: \"))\n",
    "    while trimed_mean < 0 or trimed_mean > 50:\n",
    "        trimed_mean = float(input(\"\\nPlease introduce a valid percentage (between 0 and 50): \"))\n",
    "\n",
    "    tc = int((trimed_mean/100)*n)\n",
    "\n",
    "    print(\"\\nThe data that will be calculated is: \\n\")\n",
    "\n",
    "    for d in range(0+tc,n-tc):\n",
    "        su = su + m[d]\n",
    "        print(m[d], end=' ')\n",
    "    tm = su/(n-(tc*2))\n",
    "    \n",
    "    ntm = \"{0:.4f}\".format(tm)\n",
    "\n",
    "    print(f\"\\n\\nThe trimmed mean when the percentage is {trimed_mean}% is: {ntm}\")"
   ]
  },
  {
   "cell_type": "code",
   "execution_count": null,
   "metadata": {},
   "outputs": [],
   "source": []
  }
 ],
 "metadata": {
  "kernelspec": {
   "display_name": "Python 3",
   "language": "python",
   "name": "python3"
  },
  "language_info": {
   "codemirror_mode": {
    "name": "ipython",
    "version": 3
   },
   "file_extension": ".py",
   "mimetype": "text/x-python",
   "name": "python",
   "nbconvert_exporter": "python",
   "pygments_lexer": "ipython3",
   "version": "3.7.4"
  }
 },
 "nbformat": 4,
 "nbformat_minor": 2
}
